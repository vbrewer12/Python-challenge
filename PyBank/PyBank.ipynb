{
 "cells": [
  {
   "cell_type": "code",
   "execution_count": 22,
   "id": "5971ea88-795a-4219-8fab-a98b904f2265",
   "metadata": {},
   "outputs": [
    {
     "name": "stdout",
     "output_type": "stream",
     "text": [
      "Current working directory: C:\\Users\\Owner\\Desktop\\SMU\\Python-challenge\\PyBank\n",
      "\n",
      "Financial Analysis\n",
      "----------------------------\n",
      "Total Months: 86\n",
      "Total: $22564198\n",
      "Average Change: $-8311.11\n",
      "Greatest Increase in Profits: Aug-16 ($1862002)\n",
      "Greatest Decrease in Profits: Feb-14 ($-1825558)\n",
      "\n"
     ]
    }
   ],
   "source": [
    "import csv\n",
    "import os\n",
    "\n",
    "print(f\"Current working directory: {os.getcwd()}\")\n",
    "\n",
    "budget_df = os.path.join(\"Resources\", \"budget_data.csv\")\n",
    "budget_analysis = os.path.join(\"analysis\", \"budget_analysis.txt\")\n",
    "\n",
    "# Initialize variables\n",
    "total_months = 0\n",
    "total_net = 0\n",
    "month_of_change = []\n",
    "net_change_list = []\n",
    "greatest_profit_increase = [\"\", 0] \n",
    "greatest_profit_decrease = [\"\", 9999999999999999999] \n",
    "\n",
    "with open(budget_df) as budget_data:\n",
    "    csvreader = csv.reader(budget_data)\n",
    "    csv_headers = next(csvreader)\n",
    "    first_row = next(csvreader)\n",
    "    \n",
    "    # Process first row\n",
    "    total_months += 1\n",
    "    total_net += int(first_row[1])\n",
    "    prev_net = int(first_row[1])\n",
    "    \n",
    "    # Process remaining rows\n",
    "    for row in csvreader:\n",
    "       \n",
    "        total_months += 1\n",
    "        total_net += int(row[1])\n",
    "        \n",
    "        # Calculate and store change\n",
    "        net_change = int(row[1]) - prev_net\n",
    "        prev_net = int(row[1])\n",
    "        net_change_list.append(net_change)\n",
    "        month_of_change.append(row[0])\n",
    "        \n",
    "        # Check for greatest increase\n",
    "        if net_change > greatest_profit_increase[1]:\n",
    "            greatest_profit_increase[0] = row[0]\n",
    "            greatest_profit_increase[1] = net_change\n",
    "            \n",
    "        # Check for greatest decrease\n",
    "        if net_change < greatest_profit_decrease[1]:\n",
    "            greatest_profit_decrease[0] = row[0]\n",
    "            greatest_profit_decrease[1] = net_change\n",
    "\n",
    "# Calculate average change\n",
    "net_monthly_avg = sum(net_change_list) / len(net_change_list)\n",
    "\n",
    "# Generate output summary\n",
    "output = (\n",
    "    f\"\\nFinancial Analysis\\n\"\n",
    "    f\"----------------------------\\n\"\n",
    "    f\"Total Months: {total_months}\\n\"\n",
    "    f\"Total: ${total_net}\\n\"\n",
    "    f\"Average Change: ${net_monthly_avg:.2f}\\n\"\n",
    "    f\"Greatest Increase in Profits: {greatest_profit_increase[0]} (${greatest_profit_increase[1]})\\n\"\n",
    "    f\"Greatest Decrease in Profits: {greatest_profit_decrease[0]} (${greatest_profit_decrease[1]})\\n\"\n",
    ")\n",
    "\n",
    "# Print to terminal\n",
    "print(output)\n",
    "\n",
    "# Write to text file\n",
    "with open(budget_analysis, \"w\") as txt_file:\n",
    "    txt_file.write(output)\n"
   ]
  },
  {
   "cell_type": "code",
   "execution_count": null,
   "id": "dc9e7acc-b170-4a5d-b5c1-4848afe192cb",
   "metadata": {},
   "outputs": [],
   "source": []
  },
  {
   "cell_type": "code",
   "execution_count": null,
   "id": "922be2d7-c245-4938-a47b-3c08e0b88951",
   "metadata": {},
   "outputs": [],
   "source": []
  },
  {
   "cell_type": "code",
   "execution_count": null,
   "id": "fe3e872b-0267-4d98-ba95-0d83307112be",
   "metadata": {},
   "outputs": [],
   "source": []
  },
  {
   "cell_type": "code",
   "execution_count": null,
   "id": "840d3fb9-42a7-4723-96e8-954ddafb0277",
   "metadata": {},
   "outputs": [],
   "source": []
  },
  {
   "cell_type": "code",
   "execution_count": null,
   "id": "641177b2-823b-4c3d-94eb-9db8635c1307",
   "metadata": {},
   "outputs": [],
   "source": []
  },
  {
   "cell_type": "code",
   "execution_count": null,
   "id": "d3547d4f-ab39-4aea-89ac-1e6c6cfd6011",
   "metadata": {},
   "outputs": [],
   "source": []
  },
  {
   "cell_type": "code",
   "execution_count": null,
   "id": "83b20c60-91ab-46c2-98a3-65fe9b8295b0",
   "metadata": {},
   "outputs": [],
   "source": []
  },
  {
   "cell_type": "code",
   "execution_count": null,
   "id": "ea75b7d7-7ae6-4f58-850f-13a0977c0984",
   "metadata": {},
   "outputs": [],
   "source": []
  },
  {
   "cell_type": "code",
   "execution_count": null,
   "id": "c5f7455e-8201-4af1-acb7-fd7247cec250",
   "metadata": {},
   "outputs": [],
   "source": []
  },
  {
   "cell_type": "code",
   "execution_count": null,
   "id": "4fa1881e-0011-4fc6-a8a4-e9463ae7372d",
   "metadata": {},
   "outputs": [],
   "source": []
  },
  {
   "cell_type": "code",
   "execution_count": null,
   "id": "83107f3a-243e-4b0e-99bd-cdfe652190de",
   "metadata": {},
   "outputs": [],
   "source": []
  },
  {
   "cell_type": "code",
   "execution_count": null,
   "id": "a5e01237-77f9-4801-98b1-aa04b13eacb6",
   "metadata": {},
   "outputs": [],
   "source": []
  },
  {
   "cell_type": "code",
   "execution_count": null,
   "id": "f1fcfd9a-4385-496a-8f40-71a49c0785d4",
   "metadata": {},
   "outputs": [],
   "source": []
  },
  {
   "cell_type": "code",
   "execution_count": null,
   "id": "caf0acd0-16e6-472f-9d96-ef635236dbbb",
   "metadata": {},
   "outputs": [],
   "source": []
  },
  {
   "cell_type": "code",
   "execution_count": null,
   "id": "013c650f-8927-4365-bb95-86a1d600a0f3",
   "metadata": {},
   "outputs": [],
   "source": []
  },
  {
   "cell_type": "code",
   "execution_count": null,
   "id": "a471d6a8-2276-4f75-a427-c01991016c94",
   "metadata": {},
   "outputs": [],
   "source": []
  }
 ],
 "metadata": {
  "kernelspec": {
   "display_name": "Python [conda env:base] *",
   "language": "python",
   "name": "conda-base-py"
  },
  "language_info": {
   "codemirror_mode": {
    "name": "ipython",
    "version": 3
   },
   "file_extension": ".py",
   "mimetype": "text/x-python",
   "name": "python",
   "nbconvert_exporter": "python",
   "pygments_lexer": "ipython3",
   "version": "3.12.7"
  }
 },
 "nbformat": 4,
 "nbformat_minor": 5
}
