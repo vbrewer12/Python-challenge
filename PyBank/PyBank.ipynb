{
 "cells": [
  {
   "cell_type": "code",
   "execution_count": 1,
   "id": "5971ea88-795a-4219-8fab-a98b904f2265",
   "metadata": {},
   "outputs": [],
   "source": [
    "import csv\n",
    "import os"
   ]
  },
  {
   "cell_type": "code",
   "execution_count": null,
   "id": "fb87dea5-1cb0-4f13-be60-fdd73e202da6",
   "metadata": {},
   "outputs": [],
   "source": []
  },
  {
   "cell_type": "code",
   "execution_count": 11,
   "id": "5e8233f0-1f12-4742-95cb-f8c424565691",
   "metadata": {},
   "outputs": [],
   "source": [
    "budget_df = os.path.join(\"Resources\",\"budget_data.csv\")"
   ]
  },
  {
   "cell_type": "code",
   "execution_count": 13,
   "id": "c1e2ccec-bda3-4372-88dc-bdf0de9f6550",
   "metadata": {},
   "outputs": [],
   "source": [
    "budget_analysis = os.path.join(\"Resources\",\"budget_analysis.txt\")"
   ]
  },
  {
   "cell_type": "code",
   "execution_count": 15,
   "id": "184a91ed-bb1f-48e6-ad58-5294cffebe42",
   "metadata": {},
   "outputs": [],
   "source": [
    "total_months = 0 # total number of months in dataset\n",
    "total_net = 0 # total profit/loss over entire period\n",
    "month_of_change = [] \n",
    "average_change = [] # changes over entire period then averaged\n",
    "net_change_list = []\n",
    "greatest_profit_increase = 0 # amt of highest profit \n",
    "profit_increase_date = str # date of highest profit \n",
    "greatest_profit_decrease = 0 # amt of higheset loss\n",
    "profit_decrease_date = str # date of highest loss"
   ]
  },
  {
   "cell_type": "code",
   "execution_count": 17,
   "id": "5b1b350b-c3be-4ded-bc9a-3454ac931c38",
   "metadata": {},
   "outputs": [
    {
     "ename": "FileNotFoundError",
     "evalue": "[Errno 2] No such file or directory: 'Resources\\\\budget_data.csv'",
     "output_type": "error",
     "traceback": [
      "\u001b[1;31m---------------------------------------------------------------------------\u001b[0m",
      "\u001b[1;31mFileNotFoundError\u001b[0m                         Traceback (most recent call last)",
      "Cell \u001b[1;32mIn[17], line 1\u001b[0m\n\u001b[1;32m----> 1\u001b[0m \u001b[38;5;28;01mwith\u001b[39;00m \u001b[38;5;28mopen\u001b[39m(budget_df) \u001b[38;5;28;01mas\u001b[39;00m budget_data:\n\u001b[0;32m      2\u001b[0m     csvreader \u001b[38;5;241m=\u001b[39m csv\u001b[38;5;241m.\u001b[39mreader(budget_data, delimiter \u001b[38;5;241m=\u001b[39m \u001b[38;5;124m\"\u001b[39m\u001b[38;5;124m,\u001b[39m\u001b[38;5;124m\"\u001b[39m)\n\u001b[0;32m      3\u001b[0m     csv_headers \u001b[38;5;241m=\u001b[39m \u001b[38;5;28mnext\u001b[39m(csvreader)\n",
      "File \u001b[1;32m~\\anaconda3\\Lib\\site-packages\\IPython\\core\\interactiveshell.py:324\u001b[0m, in \u001b[0;36m_modified_open\u001b[1;34m(file, *args, **kwargs)\u001b[0m\n\u001b[0;32m    317\u001b[0m \u001b[38;5;28;01mif\u001b[39;00m file \u001b[38;5;129;01min\u001b[39;00m {\u001b[38;5;241m0\u001b[39m, \u001b[38;5;241m1\u001b[39m, \u001b[38;5;241m2\u001b[39m}:\n\u001b[0;32m    318\u001b[0m     \u001b[38;5;28;01mraise\u001b[39;00m \u001b[38;5;167;01mValueError\u001b[39;00m(\n\u001b[0;32m    319\u001b[0m         \u001b[38;5;124mf\u001b[39m\u001b[38;5;124m\"\u001b[39m\u001b[38;5;124mIPython won\u001b[39m\u001b[38;5;124m'\u001b[39m\u001b[38;5;124mt let you open fd=\u001b[39m\u001b[38;5;132;01m{\u001b[39;00mfile\u001b[38;5;132;01m}\u001b[39;00m\u001b[38;5;124m by default \u001b[39m\u001b[38;5;124m\"\u001b[39m\n\u001b[0;32m    320\u001b[0m         \u001b[38;5;124m\"\u001b[39m\u001b[38;5;124mas it is likely to crash IPython. If you know what you are doing, \u001b[39m\u001b[38;5;124m\"\u001b[39m\n\u001b[0;32m    321\u001b[0m         \u001b[38;5;124m\"\u001b[39m\u001b[38;5;124myou can use builtins\u001b[39m\u001b[38;5;124m'\u001b[39m\u001b[38;5;124m open.\u001b[39m\u001b[38;5;124m\"\u001b[39m\n\u001b[0;32m    322\u001b[0m     )\n\u001b[1;32m--> 324\u001b[0m \u001b[38;5;28;01mreturn\u001b[39;00m io_open(file, \u001b[38;5;241m*\u001b[39margs, \u001b[38;5;241m*\u001b[39m\u001b[38;5;241m*\u001b[39mkwargs)\n",
      "\u001b[1;31mFileNotFoundError\u001b[0m: [Errno 2] No such file or directory: 'Resources\\\\budget_data.csv'"
     ]
    }
   ],
   "source": [
    "with open(budget_df) as budget_data:\n",
    "    csvreader = csv.reader(budget_data, delimiter = \",\")\n",
    "    csv_headers = next(csvreader)"
   ]
  },
  {
   "cell_type": "markdown",
   "id": "40a88c3c-7e0a-4b77-b686-8908bfc2302b",
   "metadata": {
    "jupyter": {
     "source_hidden": true
    }
   },
   "source": [
    "### Now that we have the headers pulled, I can start breaking down the data\n",
    "#### 1) total number of months in the dataset\n",
    "#### 2) net profit/loss over entire period\n",
    "#### 3) changes in profit over  total period and avg of the changes\n",
    "#### 4) changes in loss over total period and avg of the changes\n",
    "#### 5) Greatest increase in profit date and amount\n",
    "#### 6) Greatest decrease in profit date and amount"
   ]
  },
  {
   "cell_type": "code",
   "execution_count": null,
   "id": "1c033891-8c70-47a6-9093-670d4f9a1413",
   "metadata": {},
   "outputs": [],
   "source": [
    "total_months += 1\n",
    "total_net +=int(first_row[1]\n",
    "               \n",
    "               \n",
    "               \n",
    "               \n",
    "               \n",
    "               \n",
    "               )\n",
    "prev_net = int(first_row[1])"
   ]
  },
  {
   "cell_type": "code",
   "execution_count": null,
   "id": "47089e9a-a290-4ec4-96d5-df9320d5c9ad",
   "metadata": {},
   "outputs": [],
   "source": [
    "for row in reader:\n",
    "    total_months += 1\n",
    "    total_net += int(row[1])\n",
    "\n",
    "    average_change = int(row[1]) - prev_net\n",
    "    prev_net = int(row[1])\n",
    "    net_change_list +=[average_change]\n",
    "    month_of_change += [row[0]]\n",
    "\n",
    "#calculate greatest increase in profits:\n",
    "if average_change > greatest_profit_increase[1]:\n",
    "    greatest_profit_increase[0] = row[0]\n",
    "    greatest_profit_increase[1] = average_change\n",
    "\n",
    "# calculate decrease in losses:\n",
    "if average_change < greatest_profit_decrease[1]:\n",
    "    greatest_profit_decrease[0] = row[0]\n",
    "    greatest_profit_decrease[1] = average_change\n",
    "    "
   ]
  },
  {
   "cell_type": "code",
   "execution_count": null,
   "id": "922be2d7-c245-4938-a47b-3c08e0b88951",
   "metadata": {},
   "outputs": [],
   "source": []
  },
  {
   "cell_type": "code",
   "execution_count": null,
   "id": "fe3e872b-0267-4d98-ba95-0d83307112be",
   "metadata": {},
   "outputs": [],
   "source": []
  },
  {
   "cell_type": "code",
   "execution_count": null,
   "id": "840d3fb9-42a7-4723-96e8-954ddafb0277",
   "metadata": {},
   "outputs": [],
   "source": []
  },
  {
   "cell_type": "code",
   "execution_count": null,
   "id": "641177b2-823b-4c3d-94eb-9db8635c1307",
   "metadata": {},
   "outputs": [],
   "source": []
  },
  {
   "cell_type": "code",
   "execution_count": null,
   "id": "d3547d4f-ab39-4aea-89ac-1e6c6cfd6011",
   "metadata": {},
   "outputs": [],
   "source": []
  },
  {
   "cell_type": "code",
   "execution_count": null,
   "id": "83b20c60-91ab-46c2-98a3-65fe9b8295b0",
   "metadata": {},
   "outputs": [],
   "source": []
  },
  {
   "cell_type": "code",
   "execution_count": null,
   "id": "ea75b7d7-7ae6-4f58-850f-13a0977c0984",
   "metadata": {},
   "outputs": [],
   "source": []
  },
  {
   "cell_type": "code",
   "execution_count": null,
   "id": "c5f7455e-8201-4af1-acb7-fd7247cec250",
   "metadata": {},
   "outputs": [],
   "source": []
  },
  {
   "cell_type": "code",
   "execution_count": null,
   "id": "4fa1881e-0011-4fc6-a8a4-e9463ae7372d",
   "metadata": {},
   "outputs": [],
   "source": []
  },
  {
   "cell_type": "code",
   "execution_count": null,
   "id": "83107f3a-243e-4b0e-99bd-cdfe652190de",
   "metadata": {},
   "outputs": [],
   "source": []
  },
  {
   "cell_type": "code",
   "execution_count": null,
   "id": "a5e01237-77f9-4801-98b1-aa04b13eacb6",
   "metadata": {},
   "outputs": [],
   "source": []
  },
  {
   "cell_type": "code",
   "execution_count": null,
   "id": "f1fcfd9a-4385-496a-8f40-71a49c0785d4",
   "metadata": {},
   "outputs": [],
   "source": []
  },
  {
   "cell_type": "code",
   "execution_count": null,
   "id": "caf0acd0-16e6-472f-9d96-ef635236dbbb",
   "metadata": {},
   "outputs": [],
   "source": []
  },
  {
   "cell_type": "code",
   "execution_count": null,
   "id": "013c650f-8927-4365-bb95-86a1d600a0f3",
   "metadata": {},
   "outputs": [],
   "source": []
  },
  {
   "cell_type": "code",
   "execution_count": null,
   "id": "a471d6a8-2276-4f75-a427-c01991016c94",
   "metadata": {},
   "outputs": [],
   "source": []
  }
 ],
 "metadata": {
  "kernelspec": {
   "display_name": "Python [conda env:base] *",
   "language": "python",
   "name": "conda-base-py"
  },
  "language_info": {
   "codemirror_mode": {
    "name": "ipython",
    "version": 3
   },
   "file_extension": ".py",
   "mimetype": "text/x-python",
   "name": "python",
   "nbconvert_exporter": "python",
   "pygments_lexer": "ipython3",
   "version": "3.12.7"
  }
 },
 "nbformat": 4,
 "nbformat_minor": 5
}
