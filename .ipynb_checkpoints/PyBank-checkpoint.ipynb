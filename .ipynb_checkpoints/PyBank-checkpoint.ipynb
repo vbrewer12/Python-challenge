{
 "cells": [
  {
   "cell_type": "code",
   "execution_count": null,
   "id": "5971ea88-795a-4219-8fab-a98b904f2265",
   "metadata": {},
   "outputs": [],
   "source": [
    "import csv\n",
    "import os"
   ]
  },
  {
   "cell_type": "code",
   "execution_count": null,
   "id": "7df38e3b-82ea-4845-a6ca-7b3353c4628b",
   "metadata": {},
   "outputs": [],
   "source": [
    "print(f\"Current working directory: {os.getcwd()}\")"
   ]
  },
  {
   "cell_type": "code",
   "execution_count": null,
   "id": "5e8233f0-1f12-4742-95cb-f8c424565691",
   "metadata": {},
   "outputs": [],
   "source": [
    "budget_df = os.path.join(\"PyBank\",\"Resources\",\"budget_data.csv\")"
   ]
  },
  {
   "cell_type": "code",
   "execution_count": null,
   "id": "c1e2ccec-bda3-4372-88dc-bdf0de9f6550",
   "metadata": {},
   "outputs": [],
   "source": [
    "budget_analysis = os.path.join(\"PyBank\",\"analysis\",\"budget_analysis.txt\")"
   ]
  },
  {
   "cell_type": "code",
   "execution_count": null,
   "id": "184a91ed-bb1f-48e6-ad58-5294cffebe42",
   "metadata": {},
   "outputs": [],
   "source": [
    "total_months = 0 # total number of months in dataset\n",
    "total_net = 0 # total profit/loss over entire period\n",
    "month_of_change = [] \n",
    "average_change = [] # changes over entire period then averaged\n",
    "net_change_list = []\n",
    "greatest_profit_increase = 0 # amt of highest profit \n",
    "profit_increase_date = str # date of highest profit \n",
    "greatest_profit_decrease = 0 # amt of higheset loss\n",
    "profit_decrease_date = str # date of highest loss"
   ]
  },
  {
   "cell_type": "code",
   "execution_count": null,
   "id": "5b1b350b-c3be-4ded-bc9a-3454ac931c38",
   "metadata": {},
   "outputs": [],
   "source": [
    "with open(budget_df) as budget_data:\n",
    "    csvreader = csv.reader(budget_data)\n",
    "    csv_headers = next(csvreader)\n",
    "    first_row = next(csvreader)"
   ]
  },
  {
   "cell_type": "markdown",
   "id": "40a88c3c-7e0a-4b77-b686-8908bfc2302b",
   "metadata": {
    "jupyter": {
     "source_hidden": true
    }
   },
   "source": [
    "### Now that we have the headers pulled, I can start breaking down the data\n",
    "#### 1) total number of months in the dataset\n",
    "#### 2) net profit/loss over entire period\n",
    "#### 3) changes in profit over  total period and avg of the changes\n",
    "#### 4) changes in loss over total period and avg of the changes\n",
    "#### 5) Greatest increase in profit date and amount\n",
    "#### 6) Greatest decrease in profit date and amount"
   ]
  },
  {
   "cell_type": "code",
   "execution_count": null,
   "id": "1c033891-8c70-47a6-9093-670d4f9a1413",
   "metadata": {},
   "outputs": [],
   "source": [
    "\n",
    "total_months += 1\n",
    "total_net +=int(first_row[1])\n",
    "prev_net = int(first_row[1])"
   ]
  },
  {
   "cell_type": "code",
   "execution_count": null,
   "id": "47089e9a-a290-4ec4-96d5-df9320d5c9ad",
   "metadata": {},
   "outputs": [],
   "source": [
    "for row in csvreader:\n",
    "    total_months += 1\n",
    "    total_net += int(row[1])\n",
    "\n",
    "    average_change = int(row[1]) - prev_net\n",
    "    prev_net = int(row[1])\n",
    "    net_change_list +=[average_change]\n",
    "    month_of_change += [row[0]]\n",
    "\n",
    "#calculate greatest increase in profits:\n",
    "if average_change > greatest_profit_increase[1]:\n",
    "    greatest_profit_increase[0] = row[0]\n",
    "    greatest_profit_increase[1] = average_change\n",
    "\n",
    "# calculate decrease in losses:\n",
    "if average_change < greatest_profit_decrease[1]:\n",
    "    greatest_profit_decrease[0] = row[0]\n",
    "    greatest_profit_decrease[1] = average_change\n",
    "    "
   ]
  },
  {
   "cell_type": "code",
   "execution_count": null,
   "id": "922be2d7-c245-4938-a47b-3c08e0b88951",
   "metadata": {},
   "outputs": [],
   "source": []
  },
  {
   "cell_type": "code",
   "execution_count": null,
   "id": "fe3e872b-0267-4d98-ba95-0d83307112be",
   "metadata": {},
   "outputs": [],
   "source": []
  },
  {
   "cell_type": "code",
   "execution_count": null,
   "id": "840d3fb9-42a7-4723-96e8-954ddafb0277",
   "metadata": {},
   "outputs": [],
   "source": []
  },
  {
   "cell_type": "code",
   "execution_count": null,
   "id": "641177b2-823b-4c3d-94eb-9db8635c1307",
   "metadata": {},
   "outputs": [],
   "source": []
  },
  {
   "cell_type": "code",
   "execution_count": null,
   "id": "d3547d4f-ab39-4aea-89ac-1e6c6cfd6011",
   "metadata": {},
   "outputs": [],
   "source": []
  },
  {
   "cell_type": "code",
   "execution_count": null,
   "id": "83b20c60-91ab-46c2-98a3-65fe9b8295b0",
   "metadata": {},
   "outputs": [],
   "source": []
  },
  {
   "cell_type": "code",
   "execution_count": null,
   "id": "ea75b7d7-7ae6-4f58-850f-13a0977c0984",
   "metadata": {},
   "outputs": [],
   "source": []
  },
  {
   "cell_type": "code",
   "execution_count": null,
   "id": "c5f7455e-8201-4af1-acb7-fd7247cec250",
   "metadata": {},
   "outputs": [],
   "source": []
  },
  {
   "cell_type": "code",
   "execution_count": null,
   "id": "4fa1881e-0011-4fc6-a8a4-e9463ae7372d",
   "metadata": {},
   "outputs": [],
   "source": []
  },
  {
   "cell_type": "code",
   "execution_count": null,
   "id": "83107f3a-243e-4b0e-99bd-cdfe652190de",
   "metadata": {},
   "outputs": [],
   "source": []
  },
  {
   "cell_type": "code",
   "execution_count": null,
   "id": "a5e01237-77f9-4801-98b1-aa04b13eacb6",
   "metadata": {},
   "outputs": [],
   "source": []
  },
  {
   "cell_type": "code",
   "execution_count": null,
   "id": "f1fcfd9a-4385-496a-8f40-71a49c0785d4",
   "metadata": {},
   "outputs": [],
   "source": []
  },
  {
   "cell_type": "code",
   "execution_count": null,
   "id": "caf0acd0-16e6-472f-9d96-ef635236dbbb",
   "metadata": {},
   "outputs": [],
   "source": []
  },
  {
   "cell_type": "code",
   "execution_count": null,
   "id": "013c650f-8927-4365-bb95-86a1d600a0f3",
   "metadata": {},
   "outputs": [],
   "source": []
  },
  {
   "cell_type": "code",
   "execution_count": null,
   "id": "a471d6a8-2276-4f75-a427-c01991016c94",
   "metadata": {},
   "outputs": [],
   "source": []
  }
 ],
 "metadata": {
  "kernelspec": {
   "display_name": "Python [conda env:base] *",
   "language": "python",
   "name": "conda-base-py"
  },
  "language_info": {
   "codemirror_mode": {
    "name": "ipython",
    "version": 3
   },
   "file_extension": ".py",
   "mimetype": "text/x-python",
   "name": "python",
   "nbconvert_exporter": "python",
   "pygments_lexer": "ipython3",
   "version": "3.12.7"
  }
 },
 "nbformat": 4,
 "nbformat_minor": 5
}
